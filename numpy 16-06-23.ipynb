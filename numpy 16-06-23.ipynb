{
 "cells": [
  {
   "cell_type": "code",
   "execution_count": 1,
   "id": "d0154634",
   "metadata": {},
   "outputs": [],
   "source": [
    "import numpy as np"
   ]
  },
  {
   "cell_type": "code",
   "execution_count": 2,
   "id": "f51f819f",
   "metadata": {},
   "outputs": [],
   "source": [
    "l=np.array([22,23,44,55])"
   ]
  },
  {
   "cell_type": "code",
   "execution_count": 3,
   "id": "0021704c",
   "metadata": {},
   "outputs": [
    {
     "data": {
      "text/plain": [
       "array([22, 23, 44, 55])"
      ]
     },
     "execution_count": 3,
     "metadata": {},
     "output_type": "execute_result"
    }
   ],
   "source": [
    "l"
   ]
  },
  {
   "cell_type": "code",
   "execution_count": 4,
   "id": "6461fd8a",
   "metadata": {},
   "outputs": [],
   "source": [
    "m=np.array(9)"
   ]
  },
  {
   "cell_type": "code",
   "execution_count": 5,
   "id": "9a34e2c4",
   "metadata": {},
   "outputs": [
    {
     "data": {
      "text/plain": [
       "array(9)"
      ]
     },
     "execution_count": 5,
     "metadata": {},
     "output_type": "execute_result"
    }
   ],
   "source": [
    "m"
   ]
  },
  {
   "cell_type": "code",
   "execution_count": 6,
   "id": "0f93deac",
   "metadata": {},
   "outputs": [
    {
     "data": {
      "text/plain": [
       "0"
      ]
     },
     "execution_count": 6,
     "metadata": {},
     "output_type": "execute_result"
    }
   ],
   "source": [
    "m.ndim# mthod to finding dimension of "
   ]
  },
  {
   "cell_type": "code",
   "execution_count": 7,
   "id": "3009a2d7",
   "metadata": {},
   "outputs": [
    {
     "data": {
      "text/plain": [
       "1"
      ]
     },
     "execution_count": 7,
     "metadata": {},
     "output_type": "execute_result"
    }
   ],
   "source": [
    "l.ndim"
   ]
  },
  {
   "cell_type": "markdown",
   "id": "23c2fa5d",
   "metadata": {},
   "source": [
    "# features of numpy array \n"
   ]
  },
  {
   "cell_type": "code",
   "execution_count": 8,
   "id": "7a32770f",
   "metadata": {},
   "outputs": [],
   "source": [
    "# size\n",
    "#shape"
   ]
  },
  {
   "cell_type": "code",
   "execution_count": 9,
   "id": "d4ba6df4",
   "metadata": {},
   "outputs": [
    {
     "data": {
      "text/plain": [
       "1"
      ]
     },
     "execution_count": 9,
     "metadata": {},
     "output_type": "execute_result"
    }
   ],
   "source": [
    "m.size"
   ]
  },
  {
   "cell_type": "code",
   "execution_count": 10,
   "id": "73309b88",
   "metadata": {},
   "outputs": [
    {
     "data": {
      "text/plain": [
       "4"
      ]
     },
     "execution_count": 10,
     "metadata": {},
     "output_type": "execute_result"
    }
   ],
   "source": [
    "l.size"
   ]
  },
  {
   "cell_type": "code",
   "execution_count": 11,
   "id": "f56241f9",
   "metadata": {},
   "outputs": [
    {
     "data": {
      "text/plain": [
       "(4,)"
      ]
     },
     "execution_count": 11,
     "metadata": {},
     "output_type": "execute_result"
    }
   ],
   "source": [
    "l.shape"
   ]
  },
  {
   "cell_type": "code",
   "execution_count": 12,
   "id": "e0604e64",
   "metadata": {},
   "outputs": [
    {
     "data": {
      "text/plain": [
       "()"
      ]
     },
     "execution_count": 12,
     "metadata": {},
     "output_type": "execute_result"
    }
   ],
   "source": [
    "m.shape"
   ]
  },
  {
   "cell_type": "code",
   "execution_count": 13,
   "id": "3423abe2",
   "metadata": {},
   "outputs": [],
   "source": [
    "z=np.array([[1,2,3,5],[8,9,0,4]])"
   ]
  },
  {
   "cell_type": "code",
   "execution_count": 14,
   "id": "d3b66de3",
   "metadata": {},
   "outputs": [
    {
     "data": {
      "text/plain": [
       "array([[1, 2, 3, 5],\n",
       "       [8, 9, 0, 4]])"
      ]
     },
     "execution_count": 14,
     "metadata": {},
     "output_type": "execute_result"
    }
   ],
   "source": [
    "z"
   ]
  },
  {
   "cell_type": "code",
   "execution_count": 15,
   "id": "7023e5fa",
   "metadata": {},
   "outputs": [
    {
     "data": {
      "text/plain": [
       "2"
      ]
     },
     "execution_count": 15,
     "metadata": {},
     "output_type": "execute_result"
    }
   ],
   "source": [
    "z.ndim"
   ]
  },
  {
   "cell_type": "code",
   "execution_count": 16,
   "id": "87a23ba9",
   "metadata": {},
   "outputs": [
    {
     "data": {
      "text/plain": [
       "(2, 4)"
      ]
     },
     "execution_count": 16,
     "metadata": {},
     "output_type": "execute_result"
    }
   ],
   "source": [
    "z.shape"
   ]
  },
  {
   "cell_type": "code",
   "execution_count": 17,
   "id": "b503fa11",
   "metadata": {},
   "outputs": [
    {
     "data": {
      "text/plain": [
       "8"
      ]
     },
     "execution_count": 17,
     "metadata": {},
     "output_type": "execute_result"
    }
   ],
   "source": [
    "z.size"
   ]
  },
  {
   "cell_type": "code",
   "execution_count": 18,
   "id": "2f6b2b73",
   "metadata": {},
   "outputs": [],
   "source": [
    "# in python we use the function of range while in numpy we will use arange"
   ]
  },
  {
   "cell_type": "code",
   "execution_count": 19,
   "id": "e5864ab4",
   "metadata": {},
   "outputs": [],
   "source": [
    "arr1d=np.arange(10)"
   ]
  },
  {
   "cell_type": "code",
   "execution_count": 20,
   "id": "e68b27a1",
   "metadata": {},
   "outputs": [
    {
     "data": {
      "text/plain": [
       "array([0, 1, 2, 3, 4, 5, 6, 7, 8, 9])"
      ]
     },
     "execution_count": 20,
     "metadata": {},
     "output_type": "execute_result"
    }
   ],
   "source": [
    "arr1d"
   ]
  },
  {
   "cell_type": "code",
   "execution_count": 21,
   "id": "35e7ecb7",
   "metadata": {},
   "outputs": [
    {
     "data": {
      "text/plain": [
       "10"
      ]
     },
     "execution_count": 21,
     "metadata": {},
     "output_type": "execute_result"
    }
   ],
   "source": [
    "arr1d.size"
   ]
  },
  {
   "cell_type": "code",
   "execution_count": 22,
   "id": "016dfbb2",
   "metadata": {},
   "outputs": [
    {
     "data": {
      "text/plain": [
       "1"
      ]
     },
     "execution_count": 22,
     "metadata": {},
     "output_type": "execute_result"
    }
   ],
   "source": [
    "arr1d.ndim"
   ]
  },
  {
   "cell_type": "code",
   "execution_count": 23,
   "id": "030d245b",
   "metadata": {},
   "outputs": [
    {
     "data": {
      "text/plain": [
       "(10,)"
      ]
     },
     "execution_count": 23,
     "metadata": {},
     "output_type": "execute_result"
    }
   ],
   "source": [
    "arr1d.shape"
   ]
  },
  {
   "cell_type": "markdown",
   "id": "46a427ee",
   "metadata": {},
   "source": [
    "# arange"
   ]
  },
  {
   "cell_type": "code",
   "execution_count": 24,
   "id": "6866a3d9",
   "metadata": {},
   "outputs": [],
   "source": [
    "arr2d=np.arange(16).reshape(2,8)"
   ]
  },
  {
   "cell_type": "code",
   "execution_count": 25,
   "id": "68771f1f",
   "metadata": {},
   "outputs": [
    {
     "data": {
      "text/plain": [
       "array([[ 0,  1,  2,  3,  4,  5,  6,  7],\n",
       "       [ 8,  9, 10, 11, 12, 13, 14, 15]])"
      ]
     },
     "execution_count": 25,
     "metadata": {},
     "output_type": "execute_result"
    }
   ],
   "source": [
    "arr2d"
   ]
  },
  {
   "cell_type": "code",
   "execution_count": 26,
   "id": "d30770cf",
   "metadata": {},
   "outputs": [],
   "source": [
    "arr3d=np.arange(48).reshape(4,2,6)# first one gave depth then row and then column"
   ]
  },
  {
   "cell_type": "code",
   "execution_count": 27,
   "id": "4a42e5dd",
   "metadata": {},
   "outputs": [
    {
     "data": {
      "text/plain": [
       "array([[[ 0,  1,  2,  3,  4,  5],\n",
       "        [ 6,  7,  8,  9, 10, 11]],\n",
       "\n",
       "       [[12, 13, 14, 15, 16, 17],\n",
       "        [18, 19, 20, 21, 22, 23]],\n",
       "\n",
       "       [[24, 25, 26, 27, 28, 29],\n",
       "        [30, 31, 32, 33, 34, 35]],\n",
       "\n",
       "       [[36, 37, 38, 39, 40, 41],\n",
       "        [42, 43, 44, 45, 46, 47]]])"
      ]
     },
     "execution_count": 27,
     "metadata": {},
     "output_type": "execute_result"
    }
   ],
   "source": [
    "arr3d"
   ]
  },
  {
   "cell_type": "markdown",
   "id": "e0adc285",
   "metadata": {},
   "source": [
    "# again conversion of 2d to 1d"
   ]
  },
  {
   "cell_type": "code",
   "execution_count": 30,
   "id": "aad80b2e",
   "metadata": {},
   "outputs": [
    {
     "data": {
      "text/plain": [
       "array([ 0,  1,  2,  3,  4,  5,  6,  7,  8,  9, 10, 11, 12, 13, 14, 15])"
      ]
     },
     "execution_count": 30,
     "metadata": {},
     "output_type": "execute_result"
    }
   ],
   "source": [
    "arr2d.reshape(16)"
   ]
  },
  {
   "cell_type": "code",
   "execution_count": 31,
   "id": "be9503a7",
   "metadata": {},
   "outputs": [
    {
     "data": {
      "text/plain": [
       "array([ 0,  1,  2,  3,  4,  5,  6,  7,  8,  9, 10, 11, 12, 13, 14, 15, 16,\n",
       "       17, 18, 19, 20, 21, 22, 23, 24, 25, 26, 27, 28, 29, 30, 31, 32, 33,\n",
       "       34, 35, 36, 37, 38, 39, 40, 41, 42, 43, 44, 45, 46, 47])"
      ]
     },
     "execution_count": 31,
     "metadata": {},
     "output_type": "execute_result"
    }
   ],
   "source": [
    "arr3d.reshape(48)"
   ]
  },
  {
   "cell_type": "markdown",
   "id": "92df0dd0",
   "metadata": {},
   "source": [
    "# flatten() use"
   ]
  },
  {
   "cell_type": "code",
   "execution_count": 32,
   "id": "a4c9cee4",
   "metadata": {},
   "outputs": [
    {
     "data": {
      "text/plain": [
       "array([ 0,  1,  2,  3,  4,  5,  6,  7,  8,  9, 10, 11, 12, 13, 14, 15])"
      ]
     },
     "execution_count": 32,
     "metadata": {},
     "output_type": "execute_result"
    }
   ],
   "source": [
    "arr2d.flatten()"
   ]
  },
  {
   "cell_type": "markdown",
   "id": "9e5e8357",
   "metadata": {},
   "source": [
    "# indexing"
   ]
  },
  {
   "cell_type": "code",
   "execution_count": 33,
   "id": "fb0bc64c",
   "metadata": {},
   "outputs": [
    {
     "data": {
      "text/plain": [
       "11"
      ]
     },
     "execution_count": 33,
     "metadata": {},
     "output_type": "execute_result"
    }
   ],
   "source": [
    "arr2d[1,3]"
   ]
  },
  {
   "cell_type": "code",
   "execution_count": 34,
   "id": "7fd22bf3",
   "metadata": {},
   "outputs": [
    {
     "data": {
      "text/plain": [
       "array([ 8,  9, 10, 11, 12, 13, 14, 15])"
      ]
     },
     "execution_count": 34,
     "metadata": {},
     "output_type": "execute_result"
    }
   ],
   "source": [
    "arr2d[1]# will give complete row"
   ]
  },
  {
   "cell_type": "code",
   "execution_count": 35,
   "id": "bec416b2",
   "metadata": {},
   "outputs": [
    {
     "data": {
      "text/plain": [
       "array([[ 0,  1,  2,  3,  4,  5],\n",
       "       [ 6,  7,  8,  9, 10, 11]])"
      ]
     },
     "execution_count": 35,
     "metadata": {},
     "output_type": "execute_result"
    }
   ],
   "source": [
    "arr3d[0]"
   ]
  },
  {
   "cell_type": "code",
   "execution_count": 38,
   "id": "44207b9b",
   "metadata": {},
   "outputs": [
    {
     "data": {
      "text/plain": [
       "array([[12, 13, 14, 15, 16, 17],\n",
       "       [18, 19, 20, 21, 22, 23]])"
      ]
     },
     "execution_count": 38,
     "metadata": {},
     "output_type": "execute_result"
    }
   ],
   "source": [
    "arr3d[1]"
   ]
  },
  {
   "cell_type": "code",
   "execution_count": 39,
   "id": "a61fb69c",
   "metadata": {},
   "outputs": [
    {
     "data": {
      "text/plain": [
       "9"
      ]
     },
     "execution_count": 39,
     "metadata": {},
     "output_type": "execute_result"
    }
   ],
   "source": [
    "arr3d[0,1,3]# method of accessing specific column"
   ]
  },
  {
   "cell_type": "code",
   "execution_count": 40,
   "id": "81f7ff89",
   "metadata": {},
   "outputs": [
    {
     "data": {
      "text/plain": [
       "array([[[ 0,  1,  2,  3,  4,  5],\n",
       "        [ 6,  7,  8,  9, 10, 11]],\n",
       "\n",
       "       [[12, 13, 14, 15, 16, 17],\n",
       "        [18, 19, 20, 21, 22, 23]],\n",
       "\n",
       "       [[24, 25, 26, 27, 28, 29],\n",
       "        [30, 31, 32, 33, 34, 35]],\n",
       "\n",
       "       [[36, 37, 38, 39, 40, 41],\n",
       "        [42, 43, 44, 45, 46, 47]]])"
      ]
     },
     "execution_count": 40,
     "metadata": {},
     "output_type": "execute_result"
    }
   ],
   "source": [
    "arr3d"
   ]
  },
  {
   "cell_type": "code",
   "execution_count": 41,
   "id": "0c369003",
   "metadata": {},
   "outputs": [
    {
     "data": {
      "text/plain": [
       "32"
      ]
     },
     "execution_count": 41,
     "metadata": {},
     "output_type": "execute_result"
    }
   ],
   "source": [
    "arr3d[2,1,2]# depth,row,column"
   ]
  },
  {
   "cell_type": "code",
   "execution_count": 42,
   "id": "5d6c34c1",
   "metadata": {},
   "outputs": [
    {
     "data": {
      "text/plain": [
       "array([[ 0,  3,  6,  9, 12, 15, 18, 21],\n",
       "       [24, 27, 30, 33, 36, 39, 42, 45]])"
      ]
     },
     "execution_count": 42,
     "metadata": {},
     "output_type": "execute_result"
    }
   ],
   "source": [
    "arr2d*3"
   ]
  },
  {
   "cell_type": "code",
   "execution_count": 43,
   "id": "70f0b752",
   "metadata": {},
   "outputs": [
    {
     "data": {
      "text/plain": [
       "array([[ 0,  1,  2,  3,  4,  5,  6,  7],\n",
       "       [ 8,  9, 10, 11, 12, 13, 14, 15]])"
      ]
     },
     "execution_count": 43,
     "metadata": {},
     "output_type": "execute_result"
    }
   ],
   "source": [
    "arr2d"
   ]
  },
  {
   "cell_type": "code",
   "execution_count": 44,
   "id": "6d81d3a5",
   "metadata": {},
   "outputs": [
    {
     "data": {
      "text/plain": [
       "array([[-7, -6, -5, -4, -3, -2, -1,  0],\n",
       "       [ 1,  2,  3,  4,  5,  6,  7,  8]])"
      ]
     },
     "execution_count": 44,
     "metadata": {},
     "output_type": "execute_result"
    }
   ],
   "source": [
    "arr2d-7"
   ]
  },
  {
   "cell_type": "code",
   "execution_count": 47,
   "id": "f3730c2b",
   "metadata": {},
   "outputs": [],
   "source": [
    "# method to multiplying a specific element\n",
    "arr3d[2,1,2]=arr3d[2,1,2]*6"
   ]
  },
  {
   "cell_type": "code",
   "execution_count": 48,
   "id": "48cb16d4",
   "metadata": {},
   "outputs": [
    {
     "data": {
      "text/plain": [
       "192"
      ]
     },
     "execution_count": 48,
     "metadata": {},
     "output_type": "execute_result"
    }
   ],
   "source": [
    "arr3d[2,1,2]"
   ]
  },
  {
   "cell_type": "code",
   "execution_count": 49,
   "id": "849f2464",
   "metadata": {},
   "outputs": [
    {
     "data": {
      "text/plain": [
       "array([[[  0,   1,   2,   3,   4,   5],\n",
       "        [  6,   7,   8,   9,  10,  11]],\n",
       "\n",
       "       [[ 12,  13,  14,  15,  16,  17],\n",
       "        [ 18,  19,  20,  21,  22,  23]],\n",
       "\n",
       "       [[ 24,  25,  26,  27,  28,  29],\n",
       "        [ 30,  31, 192,  33,  34,  35]],\n",
       "\n",
       "       [[ 36,  37,  38,  39,  40,  41],\n",
       "        [ 42,  43,  44,  45,  46,  47]]])"
      ]
     },
     "execution_count": 49,
     "metadata": {},
     "output_type": "execute_result"
    }
   ],
   "source": [
    "arr3d"
   ]
  },
  {
   "cell_type": "markdown",
   "id": "3b47181f",
   "metadata": {},
   "source": [
    "# addition of two arrays"
   ]
  },
  {
   "cell_type": "code",
   "execution_count": 50,
   "id": "4c4a3361",
   "metadata": {},
   "outputs": [],
   "source": [
    "l1=np.arange(10,40).reshape(5,6)"
   ]
  },
  {
   "cell_type": "code",
   "execution_count": 51,
   "id": "3a97e2e9",
   "metadata": {},
   "outputs": [
    {
     "data": {
      "text/plain": [
       "array([[10, 11, 12, 13, 14, 15],\n",
       "       [16, 17, 18, 19, 20, 21],\n",
       "       [22, 23, 24, 25, 26, 27],\n",
       "       [28, 29, 30, 31, 32, 33],\n",
       "       [34, 35, 36, 37, 38, 39]])"
      ]
     },
     "execution_count": 51,
     "metadata": {},
     "output_type": "execute_result"
    }
   ],
   "source": [
    "l1"
   ]
  },
  {
   "cell_type": "code",
   "execution_count": 55,
   "id": "90148f88",
   "metadata": {},
   "outputs": [],
   "source": [
    "l2=np.arange(41,71).reshape(5,6)"
   ]
  },
  {
   "cell_type": "code",
   "execution_count": 56,
   "id": "0877743a",
   "metadata": {},
   "outputs": [
    {
     "data": {
      "text/plain": [
       "array([[41, 42, 43, 44, 45, 46],\n",
       "       [47, 48, 49, 50, 51, 52],\n",
       "       [53, 54, 55, 56, 57, 58],\n",
       "       [59, 60, 61, 62, 63, 64],\n",
       "       [65, 66, 67, 68, 69, 70]])"
      ]
     },
     "execution_count": 56,
     "metadata": {},
     "output_type": "execute_result"
    }
   ],
   "source": [
    "l2"
   ]
  },
  {
   "cell_type": "markdown",
   "id": "f9283e4f",
   "metadata": {},
   "source": [
    "# mirroring or element wise"
   ]
  },
  {
   "cell_type": "code",
   "execution_count": 60,
   "id": "797c029e",
   "metadata": {},
   "outputs": [
    {
     "data": {
      "text/plain": [
       "array([[ 51,  53,  55,  57,  59,  61],\n",
       "       [ 63,  65,  67,  69,  71,  73],\n",
       "       [ 75,  77,  79,  81,  83,  85],\n",
       "       [ 87,  89,  91,  93,  95,  97],\n",
       "       [ 99, 101, 103, 105, 107, 109]])"
      ]
     },
     "execution_count": 60,
     "metadata": {},
     "output_type": "execute_result"
    }
   ],
   "source": [
    "l1+l2"
   ]
  },
  {
   "cell_type": "code",
   "execution_count": 61,
   "id": "b18157e8",
   "metadata": {},
   "outputs": [
    {
     "data": {
      "text/plain": [
       "array([[ 410,  462,  516,  572,  630,  690],\n",
       "       [ 752,  816,  882,  950, 1020, 1092],\n",
       "       [1166, 1242, 1320, 1400, 1482, 1566],\n",
       "       [1652, 1740, 1830, 1922, 2016, 2112],\n",
       "       [2210, 2310, 2412, 2516, 2622, 2730]])"
      ]
     },
     "execution_count": 61,
     "metadata": {},
     "output_type": "execute_result"
    }
   ],
   "source": [
    "l1*l2"
   ]
  },
  {
   "cell_type": "code",
   "execution_count": 64,
   "id": "ab24041c",
   "metadata": {},
   "outputs": [],
   "source": [
    "l3=np.arange(36).reshape(6,6)"
   ]
  },
  {
   "cell_type": "code",
   "execution_count": 65,
   "id": "61fae38d",
   "metadata": {},
   "outputs": [
    {
     "data": {
      "text/plain": [
       "array([[ 0,  1,  2,  3,  4,  5],\n",
       "       [ 6,  7,  8,  9, 10, 11],\n",
       "       [12, 13, 14, 15, 16, 17],\n",
       "       [18, 19, 20, 21, 22, 23],\n",
       "       [24, 25, 26, 27, 28, 29],\n",
       "       [30, 31, 32, 33, 34, 35]])"
      ]
     },
     "execution_count": 65,
     "metadata": {},
     "output_type": "execute_result"
    }
   ],
   "source": [
    "l3"
   ]
  },
  {
   "cell_type": "markdown",
   "id": "981dbdb5",
   "metadata": {},
   "source": [
    "# slicing"
   ]
  },
  {
   "cell_type": "code",
   "execution_count": 68,
   "id": "82cc1d8f",
   "metadata": {},
   "outputs": [
    {
     "data": {
      "text/plain": [
       "array([[18, 19, 20],\n",
       "       [24, 25, 26],\n",
       "       [30, 31, 32]])"
      ]
     },
     "execution_count": 68,
     "metadata": {},
     "output_type": "execute_result"
    }
   ],
   "source": [
    "l1[1:4,2:5]"
   ]
  },
  {
   "cell_type": "markdown",
   "id": "1c768458",
   "metadata": {},
   "source": [
    "# querrying array"
   ]
  },
  {
   "cell_type": "code",
   "execution_count": 69,
   "id": "f1f0f85d",
   "metadata": {},
   "outputs": [
    {
     "data": {
      "text/plain": [
       "array([[ True,  True,  True,  True,  True,  True],\n",
       "       [ True,  True,  True,  True,  True,  True],\n",
       "       [ True,  True,  True,  True,  True,  True],\n",
       "       [ True,  True,  True,  True,  True,  True],\n",
       "       [ True,  True,  True,  True,  True,  True]])"
      ]
     },
     "execution_count": 69,
     "metadata": {},
     "output_type": "execute_result"
    }
   ],
   "source": [
    "l1>5"
   ]
  },
  {
   "cell_type": "code",
   "execution_count": 70,
   "id": "87a3a7cf",
   "metadata": {},
   "outputs": [
    {
     "data": {
      "text/plain": [
       "array([[False, False, False, False, False, False],\n",
       "       [False, False, False, False, False, False],\n",
       "       [False, False, False, False, False, False],\n",
       "       [False, False, False, False, False, False],\n",
       "       [False, False, False, False, False, False]])"
      ]
     },
     "execution_count": 70,
     "metadata": {},
     "output_type": "execute_result"
    }
   ],
   "source": [
    "l1-l2>9"
   ]
  },
  {
   "cell_type": "code",
   "execution_count": 71,
   "id": "474a8926",
   "metadata": {},
   "outputs": [
    {
     "data": {
      "text/plain": [
       "array([[ True,  True,  True,  True,  True,  True],\n",
       "       [ True,  True,  True,  True,  True,  True],\n",
       "       [ True,  True,  True,  True,  True,  True],\n",
       "       [ True,  True,  True,  True,  True,  True],\n",
       "       [ True,  True,  True,  True,  True,  True]])"
      ]
     },
     "execution_count": 71,
     "metadata": {},
     "output_type": "execute_result"
    }
   ],
   "source": [
    "l1+l2>=0"
   ]
  },
  {
   "cell_type": "code",
   "execution_count": 72,
   "id": "a2ed2743",
   "metadata": {},
   "outputs": [
    {
     "data": {
      "text/plain": [
       "array([], dtype=int32)"
      ]
     },
     "execution_count": 72,
     "metadata": {},
     "output_type": "execute_result"
    }
   ],
   "source": [
    "l1[l1>67]"
   ]
  },
  {
   "cell_type": "code",
   "execution_count": 73,
   "id": "be466339",
   "metadata": {},
   "outputs": [
    {
     "data": {
      "text/plain": [
       "array([], dtype=int32)"
      ]
     },
     "execution_count": 73,
     "metadata": {},
     "output_type": "execute_result"
    }
   ],
   "source": [
    "l1[l1<9]"
   ]
  },
  {
   "cell_type": "code",
   "execution_count": 75,
   "id": "f3cd6774",
   "metadata": {},
   "outputs": [
    {
     "data": {
      "text/plain": [
       "array([10, 11, 12, 13, 14, 15, 16, 17, 18, 19, 20, 21, 22, 23, 24, 25, 26,\n",
       "       27, 28, 29, 30, 31, 32, 33, 34, 35, 36, 37, 38, 39])"
      ]
     },
     "execution_count": 75,
     "metadata": {},
     "output_type": "execute_result"
    }
   ],
   "source": [
    "l1[l1>1]"
   ]
  },
  {
   "cell_type": "code",
   "execution_count": 77,
   "id": "f8dfbff5",
   "metadata": {},
   "outputs": [
    {
     "data": {
      "text/plain": [
       "array([[10, 11, 12, 13, 14, 15],\n",
       "       [16, 17, 18, 19, 20, 21],\n",
       "       [22, 23, 24, 25, 26, 27],\n",
       "       [28, 29, 30, 31, 32, 33],\n",
       "       [34, 35, 36, 37, 38, 39],\n",
       "       [41, 42, 43, 44, 45, 46],\n",
       "       [47, 48, 49, 50, 51, 52],\n",
       "       [53, 54, 55, 56, 57, 58],\n",
       "       [59, 60, 61, 62, 63, 64],\n",
       "       [65, 66, 67, 68, 69, 70]])"
      ]
     },
     "execution_count": 77,
     "metadata": {},
     "output_type": "execute_result"
    }
   ],
   "source": [
    "np.concatenate((l1,l2)) # by default add in rows"
   ]
  },
  {
   "cell_type": "code",
   "execution_count": 78,
   "id": "a5eef843",
   "metadata": {},
   "outputs": [
    {
     "data": {
      "text/plain": [
       "array([[10, 11, 12, 13, 14, 15, 41, 42, 43, 44, 45, 46],\n",
       "       [16, 17, 18, 19, 20, 21, 47, 48, 49, 50, 51, 52],\n",
       "       [22, 23, 24, 25, 26, 27, 53, 54, 55, 56, 57, 58],\n",
       "       [28, 29, 30, 31, 32, 33, 59, 60, 61, 62, 63, 64],\n",
       "       [34, 35, 36, 37, 38, 39, 65, 66, 67, 68, 69, 70]])"
      ]
     },
     "execution_count": 78,
     "metadata": {},
     "output_type": "execute_result"
    }
   ],
   "source": [
    "np.concatenate((l1,l2),axis=1)"
   ]
  },
  {
   "cell_type": "code",
   "execution_count": 79,
   "id": "8f5ee666",
   "metadata": {},
   "outputs": [
    {
     "data": {
      "text/plain": [
       "array([[[10, 11, 12, 13, 14, 15],\n",
       "        [16, 17, 18, 19, 20, 21],\n",
       "        [22, 23, 24, 25, 26, 27],\n",
       "        [28, 29, 30, 31, 32, 33],\n",
       "        [34, 35, 36, 37, 38, 39]],\n",
       "\n",
       "       [[41, 42, 43, 44, 45, 46],\n",
       "        [47, 48, 49, 50, 51, 52],\n",
       "        [53, 54, 55, 56, 57, 58],\n",
       "        [59, 60, 61, 62, 63, 64],\n",
       "        [65, 66, 67, 68, 69, 70]]])"
      ]
     },
     "execution_count": 79,
     "metadata": {},
     "output_type": "execute_result"
    }
   ],
   "source": [
    "np.stack((l1,l2)) #will form 3 dimensiom"
   ]
  },
  {
   "cell_type": "code",
   "execution_count": 81,
   "id": "1516c797",
   "metadata": {},
   "outputs": [
    {
     "data": {
      "text/plain": [
       "array([[[10, 11, 12, 13, 14, 15],\n",
       "        [16, 17, 18, 19, 20, 21],\n",
       "        [22, 23, 24, 25, 26, 27],\n",
       "        [28, 29, 30, 31, 32, 33],\n",
       "        [34, 35, 36, 37, 38, 39]],\n",
       "\n",
       "       [[41, 42, 43, 44, 45, 46],\n",
       "        [47, 48, 49, 50, 51, 52],\n",
       "        [53, 54, 55, 56, 57, 58],\n",
       "        [59, 60, 61, 62, 63, 64],\n",
       "        [65, 66, 67, 68, 69, 70]]])"
      ]
     },
     "execution_count": 81,
     "metadata": {},
     "output_type": "execute_result"
    }
   ],
   "source": [
    "np.stack((l1,l2))# shape shold be same"
   ]
  },
  {
   "cell_type": "code",
   "execution_count": 82,
   "id": "93b432ff",
   "metadata": {},
   "outputs": [
    {
     "data": {
      "text/plain": [
       "array([[10, 11, 12, 13, 14, 15, 41, 42, 43, 44, 45, 46],\n",
       "       [16, 17, 18, 19, 20, 21, 47, 48, 49, 50, 51, 52],\n",
       "       [22, 23, 24, 25, 26, 27, 53, 54, 55, 56, 57, 58],\n",
       "       [28, 29, 30, 31, 32, 33, 59, 60, 61, 62, 63, 64],\n",
       "       [34, 35, 36, 37, 38, 39, 65, 66, 67, 68, 69, 70]])"
      ]
     },
     "execution_count": 82,
     "metadata": {},
     "output_type": "execute_result"
    }
   ],
   "source": [
    "np.hstack((l1,l2))#"
   ]
  },
  {
   "cell_type": "markdown",
   "id": "7977d38c",
   "metadata": {},
   "source": [
    "# addition/sum"
   ]
  },
  {
   "cell_type": "code",
   "execution_count": 83,
   "id": "cb2d6eb5",
   "metadata": {},
   "outputs": [
    {
     "name": "stdout",
     "output_type": "stream",
     "text": [
      "[ 6 15 24]\n"
     ]
    }
   ],
   "source": [
    "arr = np.array([[1, 2, 3],\n",
    "                [4, 5, 6],\n",
    "                [7, 8, 9]])\n",
    "\n",
    "# Summing along axis=1 (columns)\n",
    "sum_along_axis1 = np.sum(arr, axis=1)\n",
    "\n",
    "print(sum_along_axis1)"
   ]
  },
  {
   "cell_type": "code",
   "execution_count": 84,
   "id": "a3c2aac6",
   "metadata": {},
   "outputs": [],
   "source": [
    "k=np.sum(arr,axis=0)"
   ]
  },
  {
   "cell_type": "code",
   "execution_count": 85,
   "id": "f575f8c0",
   "metadata": {},
   "outputs": [
    {
     "data": {
      "text/plain": [
       "array([12, 15, 18])"
      ]
     },
     "execution_count": 85,
     "metadata": {},
     "output_type": "execute_result"
    }
   ],
   "source": [
    "k"
   ]
  },
  {
   "cell_type": "code",
   "execution_count": 86,
   "id": "2e5a977b",
   "metadata": {},
   "outputs": [
    {
     "data": {
      "text/plain": [
       "array([[10, 11, 12, 13, 14, 15],\n",
       "       [16, 17, 18, 19, 20, 21],\n",
       "       [22, 23, 24, 25, 26, 27],\n",
       "       [28, 29, 30, 31, 32, 33],\n",
       "       [34, 35, 36, 37, 38, 39],\n",
       "       [41, 42, 43, 44, 45, 46],\n",
       "       [47, 48, 49, 50, 51, 52],\n",
       "       [53, 54, 55, 56, 57, 58],\n",
       "       [59, 60, 61, 62, 63, 64],\n",
       "       [65, 66, 67, 68, 69, 70]])"
      ]
     },
     "execution_count": 86,
     "metadata": {},
     "output_type": "execute_result"
    }
   ],
   "source": [
    "np.vstack((l1,l2))"
   ]
  },
  {
   "cell_type": "code",
   "execution_count": 88,
   "id": "a85ec1cc",
   "metadata": {},
   "outputs": [
    {
     "data": {
      "text/plain": [
       "False"
      ]
     },
     "execution_count": 88,
     "metadata": {},
     "output_type": "execute_result"
    }
   ],
   "source": [
    "(l1<5).any()"
   ]
  },
  {
   "cell_type": "code",
   "execution_count": null,
   "id": "0e2244eb",
   "metadata": {},
   "outputs": [],
   "source": []
  }
 ],
 "metadata": {
  "kernelspec": {
   "display_name": "Python 3",
   "language": "python",
   "name": "python3"
  },
  "language_info": {
   "codemirror_mode": {
    "name": "ipython",
    "version": 3
   },
   "file_extension": ".py",
   "mimetype": "text/x-python",
   "name": "python",
   "nbconvert_exporter": "python",
   "pygments_lexer": "ipython3",
   "version": "3.8.8"
  }
 },
 "nbformat": 4,
 "nbformat_minor": 5
}
