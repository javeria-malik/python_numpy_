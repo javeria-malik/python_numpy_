{
 "cells": [
  {
   "cell_type": "code",
   "execution_count": 1,
   "id": "56f905d5",
   "metadata": {},
   "outputs": [],
   "source": [
    "import pandas as pd"
   ]
  },
  {
   "cell_type": "code",
   "execution_count": 2,
   "id": "ffa3cf8f",
   "metadata": {},
   "outputs": [
    {
     "data": {
      "text/plain": [
       "0    100\n",
       "1    200\n",
       "2    300\n",
       "3    400\n",
       "4    500\n",
       "dtype: int64"
      ]
     },
     "execution_count": 2,
     "metadata": {},
     "output_type": "execute_result"
    }
   ],
   "source": [
    "pd.Series([100,200,300,400,500])"
   ]
  },
  {
   "cell_type": "code",
   "execution_count": 6,
   "id": "b4b10098",
   "metadata": {},
   "outputs": [],
   "source": [
    "car_rg=pd.Series([200,300,400,500,600])"
   ]
  },
  {
   "cell_type": "code",
   "execution_count": 7,
   "id": "02673d2c",
   "metadata": {},
   "outputs": [
    {
     "data": {
      "text/plain": [
       "0    200\n",
       "1    300\n",
       "2    400\n",
       "3    500\n",
       "4    600\n",
       "dtype: int64"
      ]
     },
     "execution_count": 7,
     "metadata": {},
     "output_type": "execute_result"
    }
   ],
   "source": [
    "car_rg"
   ]
  },
  {
   "cell_type": "code",
   "execution_count": 9,
   "id": "fda5737f",
   "metadata": {},
   "outputs": [
    {
     "data": {
      "text/plain": [
       "array([200, 300, 400, 500, 600], dtype=int64)"
      ]
     },
     "execution_count": 9,
     "metadata": {},
     "output_type": "execute_result"
    }
   ],
   "source": [
    "car_rg.values"
   ]
  },
  {
   "cell_type": "code",
   "execution_count": 10,
   "id": "b392102c",
   "metadata": {},
   "outputs": [
    {
     "data": {
      "text/plain": [
       "RangeIndex(start=0, stop=5, step=1)"
      ]
     },
     "execution_count": 10,
     "metadata": {},
     "output_type": "execute_result"
    }
   ],
   "source": [
    "car_rg.index# give start value stop value and step b/w them"
   ]
  },
  {
   "cell_type": "markdown",
   "id": "21b686bb",
   "metadata": {},
   "source": [
    "# assign  index "
   ]
  },
  {
   "cell_type": "code",
   "execution_count": 11,
   "id": "3646b035",
   "metadata": {},
   "outputs": [],
   "source": [
    "car_rg=pd.Series([200,300,400,500,600],index=[\"one\",\"two\",\"three\",\"four\",\"five\"])"
   ]
  },
  {
   "cell_type": "code",
   "execution_count": 12,
   "id": "3dcf79a6",
   "metadata": {},
   "outputs": [
    {
     "data": {
      "text/plain": [
       "one      200\n",
       "two      300\n",
       "three    400\n",
       "four     500\n",
       "five     600\n",
       "dtype: int64"
      ]
     },
     "execution_count": 12,
     "metadata": {},
     "output_type": "execute_result"
    }
   ],
   "source": [
    "car_rg"
   ]
  },
  {
   "cell_type": "code",
   "execution_count": 14,
   "id": "3f664a47",
   "metadata": {},
   "outputs": [
    {
     "data": {
      "text/plain": [
       "Index(['one', 'two', 'three', 'four', 'five'], dtype='object')"
      ]
     },
     "execution_count": 14,
     "metadata": {},
     "output_type": "execute_result"
    }
   ],
   "source": [
    "car_rg.index"
   ]
  },
  {
   "cell_type": "markdown",
   "id": "3569003b",
   "metadata": {},
   "source": [
    "# assign name"
   ]
  },
  {
   "cell_type": "code",
   "execution_count": 15,
   "id": "6e16f41a",
   "metadata": {},
   "outputs": [],
   "source": [
    "car_rg=pd.Series([200,300,400,500,600],index=[\"one\",\"two\",\"three\",\"four\",\"five\"],name=\"the average range of cars\")"
   ]
  },
  {
   "cell_type": "code",
   "execution_count": 16,
   "id": "538d5dba",
   "metadata": {},
   "outputs": [
    {
     "data": {
      "text/plain": [
       "one      200\n",
       "two      300\n",
       "three    400\n",
       "four     500\n",
       "five     600\n",
       "Name: the average range of cars, dtype: int64"
      ]
     },
     "execution_count": 16,
     "metadata": {},
     "output_type": "execute_result"
    }
   ],
   "source": [
    "car_rg"
   ]
  },
  {
   "cell_type": "markdown",
   "id": "01330c5a",
   "metadata": {},
   "source": [
    "# temperature during whole week"
   ]
  },
  {
   "cell_type": "code",
   "execution_count": 17,
   "id": "755dc353",
   "metadata": {},
   "outputs": [],
   "source": [
    "temp=pd.Series([45,47,46,48,49,42,40],index=[\"monday\",\"tuesday\",\"wednesday\",\"thursday\",\"friday\",\"saturday\",\"sunday\"],name=\"temperature during whole week\")"
   ]
  },
  {
   "cell_type": "code",
   "execution_count": 18,
   "id": "3f90848b",
   "metadata": {},
   "outputs": [
    {
     "data": {
      "text/plain": [
       "monday       45\n",
       "tuesday      47\n",
       "wednesday    46\n",
       "thursday     48\n",
       "friday       49\n",
       "saturday     42\n",
       "sunday       40\n",
       "Name: temperature during whole week, dtype: int64"
      ]
     },
     "execution_count": 18,
     "metadata": {},
     "output_type": "execute_result"
    }
   ],
   "source": [
    "temp"
   ]
  },
  {
   "cell_type": "code",
   "execution_count": 19,
   "id": "2a9d1758",
   "metadata": {},
   "outputs": [],
   "source": [
    "# access data"
   ]
  },
  {
   "cell_type": "code",
   "execution_count": 20,
   "id": "c70ca09a",
   "metadata": {},
   "outputs": [
    {
     "data": {
      "text/plain": [
       "46"
      ]
     },
     "execution_count": 20,
     "metadata": {},
     "output_type": "execute_result"
    }
   ],
   "source": [
    "temp[2]"
   ]
  },
  {
   "cell_type": "code",
   "execution_count": 22,
   "id": "e4159b70",
   "metadata": {},
   "outputs": [
    {
     "data": {
      "text/plain": [
       "wednesday    46\n",
       "thursday     48\n",
       "saturday     42\n",
       "Name: temperature during whole week, dtype: int64"
      ]
     },
     "execution_count": 22,
     "metadata": {},
     "output_type": "execute_result"
    }
   ],
   "source": [
    "temp[[2,3,5]]# the method to get list of data "
   ]
  },
  {
   "cell_type": "code",
   "execution_count": 23,
   "id": "93a82885",
   "metadata": {},
   "outputs": [
    {
     "data": {
      "text/plain": [
       "49"
      ]
     },
     "execution_count": 23,
     "metadata": {},
     "output_type": "execute_result"
    }
   ],
   "source": [
    "temp[\"friday\"]"
   ]
  },
  {
   "cell_type": "code",
   "execution_count": 24,
   "id": "cec99478",
   "metadata": {},
   "outputs": [
    {
     "data": {
      "text/plain": [
       "monday       True\n",
       "tuesday      True\n",
       "wednesday    True\n",
       "thursday     True\n",
       "friday       True\n",
       "saturday     True\n",
       "sunday       True\n",
       "Name: temperature during whole week, dtype: bool"
      ]
     },
     "execution_count": 24,
     "metadata": {},
     "output_type": "execute_result"
    }
   ],
   "source": [
    "temp<60# give value of bool"
   ]
  },
  {
   "cell_type": "code",
   "execution_count": 25,
   "id": "18ebe70c",
   "metadata": {},
   "outputs": [
    {
     "ename": "ValueError",
     "evalue": "The truth value of a Series is ambiguous. Use a.empty, a.bool(), a.item(), a.any() or a.all().",
     "output_type": "error",
     "traceback": [
      "\u001b[1;31m---------------------------------------------------------------------------\u001b[0m",
      "\u001b[1;31mValueError\u001b[0m                                Traceback (most recent call last)",
      "\u001b[1;32m<ipython-input-25-096710c6df2d>\u001b[0m in \u001b[0;36m<module>\u001b[1;34m\u001b[0m\n\u001b[1;32m----> 1\u001b[1;33m \u001b[0mtemp\u001b[0m\u001b[1;33m<\u001b[0m\u001b[1;36m60\u001b[0m \u001b[1;32mand\u001b[0m \u001b[0mtemp\u001b[0m\u001b[1;33m>\u001b[0m\u001b[1;36m45\u001b[0m\u001b[1;33m\u001b[0m\u001b[1;33m\u001b[0m\u001b[0m\n\u001b[0m",
      "\u001b[1;32m~\\anaconda3\\lib\\site-packages\\pandas\\core\\generic.py\u001b[0m in \u001b[0;36m__nonzero__\u001b[1;34m(self)\u001b[0m\n\u001b[0;32m   1440\u001b[0m     \u001b[1;33m@\u001b[0m\u001b[0mfinal\u001b[0m\u001b[1;33m\u001b[0m\u001b[1;33m\u001b[0m\u001b[0m\n\u001b[0;32m   1441\u001b[0m     \u001b[1;32mdef\u001b[0m \u001b[0m__nonzero__\u001b[0m\u001b[1;33m(\u001b[0m\u001b[0mself\u001b[0m\u001b[1;33m)\u001b[0m\u001b[1;33m:\u001b[0m\u001b[1;33m\u001b[0m\u001b[1;33m\u001b[0m\u001b[0m\n\u001b[1;32m-> 1442\u001b[1;33m         raise ValueError(\n\u001b[0m\u001b[0;32m   1443\u001b[0m             \u001b[1;34mf\"The truth value of a {type(self).__name__} is ambiguous. \"\u001b[0m\u001b[1;33m\u001b[0m\u001b[1;33m\u001b[0m\u001b[0m\n\u001b[0;32m   1444\u001b[0m             \u001b[1;34m\"Use a.empty, a.bool(), a.item(), a.any() or a.all().\"\u001b[0m\u001b[1;33m\u001b[0m\u001b[1;33m\u001b[0m\u001b[0m\n",
      "\u001b[1;31mValueError\u001b[0m: The truth value of a Series is ambiguous. Use a.empty, a.bool(), a.item(), a.any() or a.all()."
     ]
    }
   ],
   "source": [
    "temp<60 and temp>45"
   ]
  },
  {
   "cell_type": "code",
   "execution_count": 26,
   "id": "31a426fc",
   "metadata": {},
   "outputs": [
    {
     "data": {
      "text/plain": [
       "False"
      ]
     },
     "execution_count": 26,
     "metadata": {},
     "output_type": "execute_result"
    }
   ],
   "source": [
    "temp.empty# determine wether the series is empty or not"
   ]
  },
  {
   "cell_type": "code",
   "execution_count": 31,
   "id": "486d1f04",
   "metadata": {},
   "outputs": [],
   "source": [
    "#item() method is used when have to single value"
   ]
  },
  {
   "cell_type": "code",
   "execution_count": 32,
   "id": "1e8b4797",
   "metadata": {},
   "outputs": [
    {
     "name": "stdout",
     "output_type": "stream",
     "text": [
      "42\n"
     ]
    }
   ],
   "source": [
    "s = pd.Series([42])\n",
    "if len(s) == 1:\n",
    "    value = s.item()\n",
    "    print(value)  # 42\n",
    "else:\n",
    "    print(\"Series does not contain a single element.\")"
   ]
  },
  {
   "cell_type": "code",
   "execution_count": 33,
   "id": "8979d99b",
   "metadata": {},
   "outputs": [
    {
     "name": "stdout",
     "output_type": "stream",
     "text": [
      "series have no single value\n"
     ]
    }
   ],
   "source": [
    "if len(temp)==1:\n",
    "    value=temp.item()\n",
    "    print(value)\n",
    "else:\n",
    "    print(\"series have no single value\")"
   ]
  },
  {
   "cell_type": "code",
   "execution_count": 36,
   "id": "d4f26392",
   "metadata": {},
   "outputs": [
    {
     "data": {
      "text/plain": [
       "5"
      ]
     },
     "execution_count": 36,
     "metadata": {},
     "output_type": "execute_result"
    }
   ],
   "source": [
    "len(car_rg)"
   ]
  },
  {
   "cell_type": "code",
   "execution_count": 37,
   "id": "11735d58",
   "metadata": {},
   "outputs": [
    {
     "data": {
      "text/plain": [
       "True"
      ]
     },
     "execution_count": 37,
     "metadata": {},
     "output_type": "execute_result"
    }
   ],
   "source": [
    "temp.any()"
   ]
  },
  {
   "cell_type": "code",
   "execution_count": 38,
   "id": "0443ad19",
   "metadata": {},
   "outputs": [
    {
     "data": {
      "text/plain": [
       "monday       45\n",
       "tuesday      47\n",
       "wednesday    46\n",
       "thursday     48\n",
       "friday       49\n",
       "saturday     42\n",
       "sunday       40\n",
       "Name: temperature during whole week, dtype: int64"
      ]
     },
     "execution_count": 38,
     "metadata": {},
     "output_type": "execute_result"
    }
   ],
   "source": [
    "temp"
   ]
  },
  {
   "cell_type": "code",
   "execution_count": 40,
   "id": "46405711",
   "metadata": {},
   "outputs": [
    {
     "data": {
      "text/plain": [
       "'n Python, the truth value of an object is determined by its boolean interpretation. The following rules apply:\\n\\nNumeric values: Any non-zero numeric value is considered True, while zero is considered False.\\nBoolean values: True is considered True, and False is considered False.\\nNone: None is considered False.\\nStrings and other sequences: An empty sequence (e.g., an empty string) is considered False, while a non-empty sequence is considered True'"
      ]
     },
     "execution_count": 40,
     "metadata": {},
     "output_type": "execute_result"
    }
   ],
   "source": [
    "\"\"\"n Python, the truth value of an object is determined by its boolean interpretation. The following rules apply:\n",
    "\n",
    "Numeric values: Any non-zero numeric value is considered True, while zero is considered False.\n",
    "Boolean values: True is considered True, and False is considered False.\n",
    "None: None is considered False.\n",
    "Strings and other sequences: An empty sequence (e.g., an empty string) is considered False, while a non-empty sequence is considered True\"\"\""
   ]
  },
  {
   "cell_type": "code",
   "execution_count": 41,
   "id": "ae708324",
   "metadata": {},
   "outputs": [
    {
     "data": {
      "text/plain": [
       "0    0\n",
       "1    1\n",
       "2    0\n",
       "dtype: int64"
      ]
     },
     "execution_count": 41,
     "metadata": {},
     "output_type": "execute_result"
    }
   ],
   "source": [
    "# any()\n",
    "s=pd.Series([0,1,0])\n",
    "s"
   ]
  },
  {
   "cell_type": "code",
   "execution_count": 42,
   "id": "408aa220",
   "metadata": {},
   "outputs": [
    {
     "data": {
      "text/plain": [
       "True"
      ]
     },
     "execution_count": 42,
     "metadata": {},
     "output_type": "execute_result"
    }
   ],
   "source": [
    "s.any()"
   ]
  },
  {
   "cell_type": "code",
   "execution_count": 43,
   "id": "3cd79e41",
   "metadata": {},
   "outputs": [
    {
     "data": {
      "text/plain": [
       "0    0\n",
       "1    0\n",
       "2    0\n",
       "dtype: int64"
      ]
     },
     "execution_count": 43,
     "metadata": {},
     "output_type": "execute_result"
    }
   ],
   "source": [
    "s=pd.Series([0,0,0])\n",
    "s"
   ]
  },
  {
   "cell_type": "code",
   "execution_count": 45,
   "id": "6e0fe731",
   "metadata": {},
   "outputs": [
    {
     "data": {
      "text/plain": [
       "False"
      ]
     },
     "execution_count": 45,
     "metadata": {},
     "output_type": "execute_result"
    }
   ],
   "source": [
    "s.any()# sine all have zero value no have non-zero value"
   ]
  },
  {
   "cell_type": "code",
   "execution_count": 46,
   "id": "7f9f0e13",
   "metadata": {},
   "outputs": [
    {
     "name": "stderr",
     "output_type": "stream",
     "text": [
      "<ipython-input-46-dd1fd8ecbd15>:1: DeprecationWarning: The default dtype for empty Series will be 'object' instead of 'float64' in a future version. Specify a dtype explicitly to silence this warning.\n",
      "  f=pd.Series([])\n"
     ]
    },
    {
     "data": {
      "text/plain": [
       "Series([], dtype: float64)"
      ]
     },
     "execution_count": 46,
     "metadata": {},
     "output_type": "execute_result"
    }
   ],
   "source": [
    "f=pd.Series([])\n",
    "f"
   ]
  },
  {
   "cell_type": "code",
   "execution_count": 47,
   "id": "0e9bda64",
   "metadata": {},
   "outputs": [
    {
     "data": {
      "text/plain": [
       "False"
      ]
     },
     "execution_count": 47,
     "metadata": {},
     "output_type": "execute_result"
    }
   ],
   "source": [
    "f.any()"
   ]
  },
  {
   "cell_type": "code",
   "execution_count": 51,
   "id": "7658fb4c",
   "metadata": {},
   "outputs": [
    {
     "data": {
      "text/plain": [
       "True"
      ]
     },
     "execution_count": 51,
     "metadata": {},
     "output_type": "execute_result"
    }
   ],
   "source": [
    "f.empty"
   ]
  },
  {
   "cell_type": "code",
   "execution_count": 53,
   "id": "02610786",
   "metadata": {},
   "outputs": [],
   "source": [
    "#all()\n",
    "#This method returns a boolean value indicating whether all elements in the Series are True. If all elements are True, it will return True; otherwise, it will return False"
   ]
  },
  {
   "cell_type": "code",
   "execution_count": 54,
   "id": "c40c289d",
   "metadata": {},
   "outputs": [
    {
     "data": {
      "text/plain": [
       "False"
      ]
     },
     "execution_count": 54,
     "metadata": {},
     "output_type": "execute_result"
    }
   ],
   "source": [
    "s.all()"
   ]
  },
  {
   "cell_type": "code",
   "execution_count": 55,
   "id": "1885a15a",
   "metadata": {},
   "outputs": [
    {
     "data": {
      "text/plain": [
       "0    True\n",
       "1    True\n",
       "2    True\n",
       "dtype: bool"
      ]
     },
     "execution_count": 55,
     "metadata": {},
     "output_type": "execute_result"
    }
   ],
   "source": [
    "m=pd.Series([True,True,True])\n",
    "m"
   ]
  },
  {
   "cell_type": "code",
   "execution_count": 56,
   "id": "a3e1029f",
   "metadata": {},
   "outputs": [
    {
     "data": {
      "text/plain": [
       "True"
      ]
     },
     "execution_count": 56,
     "metadata": {},
     "output_type": "execute_result"
    }
   ],
   "source": [
    "m.all()"
   ]
  },
  {
   "cell_type": "code",
   "execution_count": 60,
   "id": "4b01163b",
   "metadata": {},
   "outputs": [
    {
     "data": {
      "text/plain": [
       "False"
      ]
     },
     "execution_count": 60,
     "metadata": {},
     "output_type": "execute_result"
    }
   ],
   "source": [
    "m.empty"
   ]
  },
  {
   "cell_type": "code",
   "execution_count": 61,
   "id": "29cdd85e",
   "metadata": {},
   "outputs": [
    {
     "data": {
      "text/plain": [
       "True"
      ]
     },
     "execution_count": 61,
     "metadata": {},
     "output_type": "execute_result"
    }
   ],
   "source": [
    "m.any()"
   ]
  },
  {
   "cell_type": "markdown",
   "id": "ecd634d5",
   "metadata": {},
   "source": [
    "# ARITHEM OPERATION "
   ]
  },
  {
   "cell_type": "code",
   "execution_count": 62,
   "id": "9123c780",
   "metadata": {},
   "outputs": [
    {
     "data": {
      "text/plain": [
       "monday       90\n",
       "tuesday      94\n",
       "wednesday    92\n",
       "thursday     96\n",
       "friday       98\n",
       "saturday     84\n",
       "sunday       80\n",
       "Name: temperature during whole week, dtype: int64"
      ]
     },
     "execution_count": 62,
     "metadata": {},
     "output_type": "execute_result"
    }
   ],
   "source": [
    "temp*2"
   ]
  },
  {
   "cell_type": "code",
   "execution_count": 63,
   "id": "eaf88eb3",
   "metadata": {},
   "outputs": [
    {
     "data": {
      "text/plain": [
       "monday       4100625\n",
       "tuesday      4879681\n",
       "wednesday    4477456\n",
       "thursday     5308416\n",
       "friday       5764801\n",
       "saturday     3111696\n",
       "sunday       2560000\n",
       "Name: temperature during whole week, dtype: int64"
      ]
     },
     "execution_count": 63,
     "metadata": {},
     "output_type": "execute_result"
    }
   ],
   "source": [
    "temp**4"
   ]
  },
  {
   "cell_type": "code",
   "execution_count": 64,
   "id": "7b6ccf90",
   "metadata": {},
   "outputs": [
    {
     "data": {
      "text/plain": [
       "monday       15.000000\n",
       "tuesday      15.666667\n",
       "wednesday    15.333333\n",
       "thursday     16.000000\n",
       "friday       16.333333\n",
       "saturday     14.000000\n",
       "sunday       13.333333\n",
       "Name: temperature during whole week, dtype: float64"
      ]
     },
     "execution_count": 64,
     "metadata": {},
     "output_type": "execute_result"
    }
   ],
   "source": [
    "temp/3"
   ]
  },
  {
   "cell_type": "code",
   "execution_count": 66,
   "id": "af291caf",
   "metadata": {},
   "outputs": [
    {
     "data": {
      "text/plain": [
       "False"
      ]
     },
     "execution_count": 66,
     "metadata": {},
     "output_type": "execute_result"
    }
   ],
   "source": [
    "\"A\" in temp"
   ]
  },
  {
   "cell_type": "code",
   "execution_count": 67,
   "id": "ee1784b0",
   "metadata": {},
   "outputs": [
    {
     "data": {
      "text/plain": [
       "True"
      ]
     },
     "execution_count": 67,
     "metadata": {},
     "output_type": "execute_result"
    }
   ],
   "source": [
    "\"monday\" in temp"
   ]
  },
  {
   "cell_type": "code",
   "execution_count": 68,
   "id": "e43ae023",
   "metadata": {},
   "outputs": [
    {
     "data": {
      "text/plain": [
       "monday       90\n",
       "tuesday      94\n",
       "wednesday    92\n",
       "thursday     96\n",
       "friday       98\n",
       "saturday     84\n",
       "sunday       80\n",
       "Name: temperature during whole week, dtype: int64"
      ]
     },
     "execution_count": 68,
     "metadata": {},
     "output_type": "execute_result"
    }
   ],
   "source": [
    "temp+temp"
   ]
  },
  {
   "cell_type": "code",
   "execution_count": 69,
   "id": "67bb901e",
   "metadata": {},
   "outputs": [
    {
     "data": {
      "text/plain": [
       "0    0\n",
       "1    0\n",
       "2    0\n",
       "dtype: int64"
      ]
     },
     "execution_count": 69,
     "metadata": {},
     "output_type": "execute_result"
    }
   ],
   "source": [
    "s+s"
   ]
  },
  {
   "cell_type": "code",
   "execution_count": 70,
   "id": "bfe089bd",
   "metadata": {},
   "outputs": [
    {
     "data": {
      "text/plain": [
       "monday       2025\n",
       "tuesday      2209\n",
       "wednesday    2116\n",
       "thursday     2304\n",
       "friday       2401\n",
       "saturday     1764\n",
       "sunday       1600\n",
       "Name: temperature during whole week, dtype: int64"
      ]
     },
     "execution_count": 70,
     "metadata": {},
     "output_type": "execute_result"
    }
   ],
   "source": [
    "temp*temp"
   ]
  },
  {
   "cell_type": "code",
   "execution_count": 71,
   "id": "6358bf9a",
   "metadata": {},
   "outputs": [],
   "source": [
    "import numpy as np"
   ]
  },
  {
   "cell_type": "code",
   "execution_count": 72,
   "id": "a9e6006a",
   "metadata": {},
   "outputs": [
    {
     "data": {
      "text/plain": [
       "array([2, 3, 5, 6])"
      ]
     },
     "execution_count": 72,
     "metadata": {},
     "output_type": "execute_result"
    }
   ],
   "source": [
    "arr=np.array([2,3,5,6])\n",
    "arr"
   ]
  },
  {
   "cell_type": "code",
   "execution_count": 73,
   "id": "b3fe7dce",
   "metadata": {},
   "outputs": [],
   "source": [
    "ser=pd.Series(arr)"
   ]
  },
  {
   "cell_type": "code",
   "execution_count": 74,
   "id": "448a402b",
   "metadata": {},
   "outputs": [
    {
     "data": {
      "text/plain": [
       "0    2\n",
       "1    3\n",
       "2    5\n",
       "3    6\n",
       "dtype: int32"
      ]
     },
     "execution_count": 74,
     "metadata": {},
     "output_type": "execute_result"
    }
   ],
   "source": [
    "ser"
   ]
  },
  {
   "cell_type": "code",
   "execution_count": 75,
   "id": "809db397",
   "metadata": {},
   "outputs": [],
   "source": [
    "shedule={\"monday\":\"office work\",\"tuesday\":\"persenattion work\",\"wednesday\":\"house work\",\"thursday\":\"headache work\",\"friday\":\"\",\"saturday\":\"off\",\"sunday\":\"relax\"}"
   ]
  },
  {
   "cell_type": "code",
   "execution_count": 76,
   "id": "9a8eee6e",
   "metadata": {},
   "outputs": [
    {
     "data": {
      "text/plain": [
       "{'monday': 'office work',\n",
       " 'tuesday': 'persenattion work',\n",
       " 'wednesday': 'house work',\n",
       " 'thursday': 'headache work',\n",
       " 'friday': '',\n",
       " 'saturday': 'off',\n",
       " 'sunday': 'relax'}"
      ]
     },
     "execution_count": 76,
     "metadata": {},
     "output_type": "execute_result"
    }
   ],
   "source": [
    "shedule"
   ]
  },
  {
   "cell_type": "code",
   "execution_count": 77,
   "id": "d31ea215",
   "metadata": {},
   "outputs": [],
   "source": [
    "ser=pd.Series(shedule)"
   ]
  },
  {
   "cell_type": "code",
   "execution_count": 78,
   "id": "32ac6b9c",
   "metadata": {},
   "outputs": [
    {
     "data": {
      "text/plain": [
       "monday             office work\n",
       "tuesday      persenattion work\n",
       "wednesday           house work\n",
       "thursday         headache work\n",
       "friday                        \n",
       "saturday                   off\n",
       "sunday                   relax\n",
       "dtype: object"
      ]
     },
     "execution_count": 78,
     "metadata": {},
     "output_type": "execute_result"
    }
   ],
   "source": [
    "ser"
   ]
  },
  {
   "cell_type": "code",
   "execution_count": 79,
   "id": "8868dec7",
   "metadata": {},
   "outputs": [
    {
     "data": {
      "text/plain": [
       "False"
      ]
     },
     "execution_count": 79,
     "metadata": {},
     "output_type": "execute_result"
    }
   ],
   "source": [
    "ser.empty"
   ]
  },
  {
   "cell_type": "code",
   "execution_count": 83,
   "id": "8a74036a",
   "metadata": {},
   "outputs": [
    {
     "name": "stdout",
     "output_type": "stream",
     "text": [
      "office work\n"
     ]
    }
   ],
   "source": [
    "print(ser.any())"
   ]
  },
  {
   "cell_type": "code",
   "execution_count": 82,
   "id": "72971da4",
   "metadata": {},
   "outputs": [
    {
     "data": {
      "text/plain": [
       "''"
      ]
     },
     "execution_count": 82,
     "metadata": {},
     "output_type": "execute_result"
    }
   ],
   "source": [
    "ser.all()"
   ]
  },
  {
   "cell_type": "code",
   "execution_count": 85,
   "id": "7710d2b6",
   "metadata": {},
   "outputs": [],
   "source": [
    "#temp+ser# should have same data type"
   ]
  },
  {
   "cell_type": "code",
   "execution_count": 86,
   "id": "84c52bb1",
   "metadata": {},
   "outputs": [],
   "source": [
    "n=pd.Series([2,4,5,6,6])\n",
    "m=pd.Series([2,9,6,7])"
   ]
  },
  {
   "cell_type": "code",
   "execution_count": 87,
   "id": "307fc732",
   "metadata": {},
   "outputs": [
    {
     "data": {
      "text/plain": [
       "0     4.0\n",
       "1    13.0\n",
       "2    11.0\n",
       "3    13.0\n",
       "4     NaN\n",
       "dtype: float64"
      ]
     },
     "execution_count": 87,
     "metadata": {},
     "output_type": "execute_result"
    }
   ],
   "source": [
    "n+m"
   ]
  },
  {
   "cell_type": "code",
   "execution_count": 89,
   "id": "359e0a44",
   "metadata": {},
   "outputs": [],
   "source": [
    "n=pd.Series([2,4,5,6,6],index=[2,3,4,5,6])\n",
    "m=pd.Series([2,9,6,7],index=[2,3,4,5])"
   ]
  },
  {
   "cell_type": "code",
   "execution_count": 90,
   "id": "c05d6504",
   "metadata": {},
   "outputs": [
    {
     "data": {
      "text/plain": [
       "2     4.0\n",
       "3    13.0\n",
       "4    11.0\n",
       "5    13.0\n",
       "6     NaN\n",
       "dtype: float64"
      ]
     },
     "execution_count": 90,
     "metadata": {},
     "output_type": "execute_result"
    }
   ],
   "source": [
    "n+m"
   ]
  },
  {
   "cell_type": "code",
   "execution_count": 91,
   "id": "8edbf67e",
   "metadata": {},
   "outputs": [],
   "source": [
    "n=pd.Series([2,4,5,6,6],index=[2,3,4,5,6])\n",
    "m=pd.Series([2,9,6,7],index=[2,3,9,5])# index will also increase"
   ]
  },
  {
   "cell_type": "code",
   "execution_count": 92,
   "id": "b1596b94",
   "metadata": {},
   "outputs": [
    {
     "data": {
      "text/plain": [
       "2     4.0\n",
       "3    13.0\n",
       "4     NaN\n",
       "5    13.0\n",
       "6     NaN\n",
       "9     NaN\n",
       "dtype: float64"
      ]
     },
     "execution_count": 92,
     "metadata": {},
     "output_type": "execute_result"
    }
   ],
   "source": [
    "n+m"
   ]
  },
  {
   "cell_type": "code",
   "execution_count": null,
   "id": "15aba383",
   "metadata": {},
   "outputs": [],
   "source": []
  }
 ],
 "metadata": {
  "kernelspec": {
   "display_name": "Python 3",
   "language": "python",
   "name": "python3"
  },
  "language_info": {
   "codemirror_mode": {
    "name": "ipython",
    "version": 3
   },
   "file_extension": ".py",
   "mimetype": "text/x-python",
   "name": "python",
   "nbconvert_exporter": "python",
   "pygments_lexer": "ipython3",
   "version": "3.8.8"
  }
 },
 "nbformat": 4,
 "nbformat_minor": 5
}
